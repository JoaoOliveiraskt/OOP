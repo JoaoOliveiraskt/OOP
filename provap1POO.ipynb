{
  "cells": [
    {
      "cell_type": "markdown",
      "metadata": {
        "id": "view-in-github",
        "colab_type": "text"
      },
      "source": [
        "<a href=\"https://colab.research.google.com/github/JoaoOliveiraskt/OOP/blob/main/provap1POO.ipynb\" target=\"_parent\"><img src=\"https://colab.research.google.com/assets/colab-badge.svg\" alt=\"Open In Colab\"/></a>"
      ]
    },
    {
      "cell_type": "markdown",
      "metadata": {
        "id": "517OSGiV-jJJ"
      },
      "source": [
        "|          |                          |\n",
        "| :------: | ----------------------: |\n",
        "| ![image.png](attachment:image.png) | **Curso de Engenharia de Software - Campus Saquarema - RJ** |\n",
        "| Disciplina: **Laboratório de Programação Orientada a Objeto - POO** | Período **3º** |\n",
        "| Professor: **Diego Ramos Inácio** | Aluno: **João Victor Flores de Oliveira** |\n",
        "***"
      ]
    },
    {
      "cell_type": "markdown",
      "metadata": {
        "id": "oRkEEMHv-jJL"
      },
      "source": [
        "- Esta prova é referente ao ciclo inicial de POO e tem como objetivo avaliar o conhecimento dos alunos sobre conceitos e técnicas fundamentais da linguagem. A prova pode ser feita nos arquivos Jupyter Notebook ou Colab **.ipynb** ou arquivo python padrão **.py** contém questões que precisão ser solucionadas usando Python e POO.\n",
        "\n",
        "- A prova será dividida em seis passos.\n",
        "\n",
        "- Caso tenham alguma dúvida, é só chamar ou se direcionar ao professor.\n",
        "- __Pontuação máxima da prova: 06 (seis) pontos__\n",
        "***\n",
        "As lojas de Saquarema precisão de um sistema que seja online para venda, após a pandemia a população de Saquarema se habituou a compras onlines e se os comércios locais quem sobreviver precisão se adequar a nova realidade de Saquarema - RJ\n",
        "\n",
        "Sendo assim você foi contratado para trazer uma solução inicial se como esse sistema irá ou pode funcionar!\n",
        "sobre as exigencias do contratante estão as seguintes questões\n",
        "1. Crie uma classe chamada Produto com os seguintes atributos:\n",
        "\n",
        "- nome (str): o nome do produto.\n",
        "- preco (float): o preço do produto.\n",
        "- quantidade (int): a quantidade disponível desse produto em estoque.\n",
        "- Essa questão vale **1.0 pontos**"
      ]
    },
    {
      "cell_type": "code",
      "execution_count": null,
      "metadata": {
        "id": "bc50VJze-jJL"
      },
      "outputs": [],
      "source": [
        "class Produto:\n",
        "    def __init__(self, nome, preco, quantidade):\n",
        "        self.nome = nome\n",
        "        self.preco = preco\n",
        "        self.quantidade = quantidade\n",
        "\n",
        "    def calcular_total(self):\n",
        "        return self.preco * self.quantidade\n"
      ]
    },
    {
      "cell_type": "markdown",
      "metadata": {
        "id": "9ap7YfE1-jJM"
      },
      "source": [
        "2. Adicione um método à classe Produto chamado calcular_total que não recebe parâmetros e retorna o preço total do produto com base na quantidade disponível\n",
        "- Crie uma classe chamada Carrinho com os seguintes atributos:\n",
        "    - itens (lista): uma lista que armazena os produtos que estão no carrinho.\n",
        "    \n",
        "- Essa questão vale **1.0 pontos**"
      ]
    },
    {
      "cell_type": "code",
      "execution_count": null,
      "metadata": {
        "id": "OV82ysko-jJN"
      },
      "outputs": [],
      "source": [
        "class Carrinho:\n",
        "    def __init__(self):\n",
        "        self.itens = []\n",
        "    def adicionar_produto(self, produto):\n",
        "        self.itens.append(produto)\n",
        "    def remover_produto(self, produto):\n",
        "        if produto in self.itens:\n",
        "            self.itens.remove(produto)\n",
        "        else:\n",
        "            print(\"O produto não está no carrinho.\")\n",
        "    def calcular_total_carrinho(self):\n",
        "        total = 0\n",
        "        for produto in self.itens:\n",
        "            total += produto.calcular_total()\n",
        "        return total"
      ]
    },
    {
      "cell_type": "markdown",
      "metadata": {
        "id": "bgg3BuzM-jJN"
      },
      "source": [
        "3. Adicione um método à classe Carrinho chamado adicionar_produto que recebe um objeto da classe Produto como parâmetro e adiciona esse produto à lista de itens do carrinho.\n",
        "- Essa questão vale **1.0 pontos**"
      ]
    },
    {
      "cell_type": "code",
      "execution_count": null,
      "metadata": {
        "id": "-SvoCScP-jJN"
      },
      "outputs": [],
      "source": [
        "\n"
      ]
    },
    {
      "cell_type": "markdown",
      "metadata": {
        "id": "Ij7KD9Fv-jJN"
      },
      "source": [
        "4. Adicione um método à classe Carrinho chamado calcular_total_carrinho que não recebe parâmetros e retorna o preço total de todos os produtos no carrinho.\n",
        "- Essa questão vale **1.0 pontos**"
      ]
    },
    {
      "cell_type": "code",
      "execution_count": null,
      "metadata": {
        "id": "Uwlkfhkg-jJN"
      },
      "outputs": [],
      "source": [
        "\n"
      ]
    },
    {
      "cell_type": "markdown",
      "metadata": {
        "id": "5JPjm8ln-jJN"
      },
      "source": [
        "5. Crie um exemplo de uso dessas classes, onde você cria alguns produtos, adiciona-os a um carrinho e calcula o preço total do carrinho.\n",
        "- Essa questão vale **2.0 pontos**"
      ]
    },
    {
      "cell_type": "code",
      "execution_count": null,
      "metadata": {
        "colab": {
          "base_uri": "https://localhost:8080/"
        },
        "id": "AY6K46IV-jJN",
        "outputId": "ea6ccac7-556b-4ef2-a58e-2be662e15d94"
      },
      "outputs": [
        {
          "output_type": "stream",
          "name": "stdout",
          "text": [
            "Total do carrinho: R$760\n",
            "Total do carrinho após remover o produto: R$360\n"
          ]
        }
      ],
      "source": [
        "produto1 = Produto(\"Shape\", 250, 1)\n",
        "produto2 = Produto(\"Roda\", 400, 1)\n",
        "produto3 = Produto(\"Rolamento\", 110, 1)\n",
        "\n",
        "carrinho = Carrinho()\n",
        "carrinho.adicionar_produto(produto1)\n",
        "carrinho.adicionar_produto(produto2)\n",
        "carrinho.adicionar_produto(produto3)\n",
        "\n",
        "total_carrinho = carrinho.calcular_total_carrinho()\n",
        "print(f\"Total do carrinho: R${total_carrinho:}\")\n",
        "\n",
        "carrinho.remover_produto(produto2)\n",
        "\n",
        "total_carrinho = carrinho.calcular_total_carrinho()\n",
        "print(f\"Total do carrinho após remover o produto: R${total_carrinho}\")\n"
      ]
    },
    {
      "cell_type": "markdown",
      "metadata": {
        "id": "8M3KaVql-jJN"
      },
      "source": [
        "***\n",
        "<p style=\"text-align:left;\"><strong>Programadores, não se esqueçam: cada linha de código é uma oportunidade de criar algo novo e incrível. Mantenham a mente aberta, aprendam com seus erros e desafiem-se constantemente. Com dedicação e persistência, vocês são capazes de transformar o mundo com suas habilidades em programação. Vamos em frente!</strong></p>\n",
        "<p style=\"text-align:right;\"><strong>Uma ótima prova para todos vocês.</strong></p>"
      ]
    }
  ],
  "metadata": {
    "kernelspec": {
      "display_name": "dat_science",
      "language": "python",
      "name": "python3"
    },
    "language_info": {
      "codemirror_mode": {
        "name": "ipython",
        "version": 3
      },
      "file_extension": ".py",
      "mimetype": "text/x-python",
      "name": "python",
      "nbconvert_exporter": "python",
      "pygments_lexer": "ipython3",
      "version": "3.11.4"
    },
    "orig_nbformat": 4,
    "colab": {
      "provenance": [],
      "include_colab_link": true
    }
  },
  "nbformat": 4,
  "nbformat_minor": 0
}