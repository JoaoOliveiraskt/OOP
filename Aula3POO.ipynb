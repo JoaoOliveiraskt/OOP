{
  "nbformat": 4,
  "nbformat_minor": 0,
  "metadata": {
    "colab": {
      "provenance": [],
      "authorship_tag": "ABX9TyPRSS6fw2xpX9Zk/1XNlog7",
      "include_colab_link": true
    },
    "kernelspec": {
      "name": "python3",
      "display_name": "Python 3"
    },
    "language_info": {
      "name": "python"
    }
  },
  "cells": [
    {
      "cell_type": "markdown",
      "metadata": {
        "id": "view-in-github",
        "colab_type": "text"
      },
      "source": [
        "<a href=\"https://colab.research.google.com/github/JoaoOliveiraskt/OOP/blob/main/Aula3POO.ipynb\" target=\"_parent\"><img src=\"https://colab.research.google.com/assets/colab-badge.svg\" alt=\"Open In Colab\"/></a>"
      ]
    },
    {
      "cell_type": "code",
      "execution_count": null,
      "metadata": {
        "colab": {
          "base_uri": "https://localhost:8080/"
        },
        "id": "swqQZo-esCxx",
        "outputId": "8c751f52-2a11-495d-8163-26e4424cc86d"
      },
      "outputs": [
        {
          "output_type": "stream",
          "name": "stdout",
          "text": [
            "A comida é Pizza, é do tipo Massa, seus ingredientes são Trigo, queijo, calabresa, orégano\n"
          ]
        }
      ],
      "source": [
        "class Food:\n",
        "  def __init__(self, name, typeF, ingredients):\n",
        "    self.name = name\n",
        "    self.typeF = typeF\n",
        "    self.ingredients = ingredients\n",
        "\n",
        "if __name__ == \"__main__\":\n",
        "  pizza_calabresa = Food(\"Pizza\", \"Massa\", \"Trigo, queijo, calabresa, orégano\")\n",
        "  print(f'A comida é {pizza_calabresa.name}, é do tipo {pizza_calabresa.typeF}, seus ingredientes são {pizza_calabresa.ingredients}')\n"
      ]
    },
    {
      "cell_type": "code",
      "source": [
        "class Moto:\n",
        "  def __init__(self, marca, model, year):\n",
        "    self.marca = marca\n",
        "    self.model = model\n",
        "    self.year = year\n",
        "    self.is_running = False\n",
        "    self.velocidade = 0\n",
        "\n",
        "  def start(self):\n",
        "    if not self.is_running:\n",
        "      self.is_running = True\n",
        "      print(\"A moto está ligada.\")\n",
        "\n",
        "  def stop(self):\n",
        "    if self.is_running:\n",
        "      self.is_running = False\n",
        "      print(\"O carro está desligada.\")\n",
        "\n",
        "  def drive(self, distance):\n",
        "    if self.is_running:\n",
        "      self.velocidade += distance\n",
        "      print(f\"Dirigindo {distance} km.\")\n",
        "    else:\n",
        "      print(\"A moto precisa estar ligada para dirigir.\")\n",
        "\n",
        "if __name__ == \"__main__\":\n",
        "  moto1 = Moto(\"BMW\", \"m1\", 2023)\n",
        "  print(moto1.marca, moto1.model, moto1.year)\n",
        "\n",
        "  moto1.start()\n",
        "  moto1.drive(4)\n",
        "  moto1.stop()\n",
        "\n",
        "  print(f\"Quilometragem {moto1.velocidade} km.\")\n",
        "\n",
        "\n"
      ],
      "metadata": {
        "colab": {
          "base_uri": "https://localhost:8080/"
        },
        "id": "CgnOCW8Z1BGk",
        "outputId": "07158669-cd85-4781-fd7c-aef233df6cd1"
      },
      "execution_count": null,
      "outputs": [
        {
          "output_type": "stream",
          "name": "stdout",
          "text": [
            "BMW m1 2023\n",
            "A moto está ligada.\n",
            "Dirigindo 4 km.\n",
            "O carro está desligada.\n",
            "Quilometragem 4 km.\n"
          ]
        }
      ]
    },
    {
      "cell_type": "code",
      "source": [
        "class Student:\n",
        "  def __init__(self, name, age):\n",
        "    self.name = name\n",
        "    self.age = age\n",
        "    self.grades = []\n",
        "\n",
        "  def add_grade(self, grade):\n",
        "    self.grades.append(grade)\n",
        "\n",
        "  def get_average_grade(self):\n",
        "    if len(self.grades) == 0\n",
        "      return 0\n",
        "    return sum(self.grades) / len(self.grades)\n",
        "\n",
        "  @property\n",
        "  def is_passing(self):\n",
        "    return self.get_average_grade() >= 60"
      ],
      "metadata": {
        "id": "TxQccPDjFitZ"
      },
      "execution_count": null,
      "outputs": []
    },
    {
      "cell_type": "code",
      "source": [
        "def main():\n",
        "  students = []\n",
        "\n",
        "  while True:\n",
        "    print(\"1 - Adicionar aluno\")\n",
        "    print(\"2 - Adicionar nota\")\n",
        "    print(\"3 - Verificar aprovação\")\n",
        "    print(\"4 - Sair\")\n",
        "    choice = int(input(\"Escolha uma opção: \"))\n",
        "\n",
        "    if choice == 1\n",
        "      name = input(\"Nome do aluno:\")\n",
        "      age = int(input(\"idade do aluno:\"))\n",
        "      student = Student(name, age)\n",
        "      students.append(student)\n",
        "      print(\"Aluno adicionado. \")\n",
        "    elif choice == 2:\n",
        "      if not students:\n",
        "        print(\"Nenhum aluno cadastrado. \")\n",
        "        continue\n",
        "      for idx, student in enumerate(students):\n",
        "        print(f\"{idx + 1} - {student.name}\")\n",
        "      student_idx = int(input(\"Escolha o número do aluno:\")) - 1\n",
        "\n",
        "      if 0 <= student_idx < len(students):\n",
        "        grade = float(input(\"Nota do aluno: \"))\n",
        "\n",
        "\n"
      ],
      "metadata": {
        "id": "Ry4BgW2LGX3B"
      },
      "execution_count": null,
      "outputs": []
    }
  ]
}