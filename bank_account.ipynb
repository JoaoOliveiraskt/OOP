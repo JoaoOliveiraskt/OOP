{
  "nbformat": 4,
  "nbformat_minor": 0,
  "metadata": {
    "colab": {
      "provenance": [],
      "authorship_tag": "ABX9TyOQ8OnLdFiRykP/6GdGRZuA",
      "include_colab_link": true
    },
    "kernelspec": {
      "name": "python3",
      "display_name": "Python 3"
    },
    "language_info": {
      "name": "python"
    }
  },
  "cells": [
    {
      "cell_type": "markdown",
      "metadata": {
        "id": "view-in-github",
        "colab_type": "text"
      },
      "source": [
        "<a href=\"https://colab.research.google.com/github/JoaoOliveiraskt/OOP/blob/main/bank_account.ipynb\" target=\"_parent\"><img src=\"https://colab.research.google.com/assets/colab-badge.svg\" alt=\"Open In Colab\"/></a>"
      ]
    },
    {
      "cell_type": "code",
      "execution_count": null,
      "metadata": {
        "colab": {
          "base_uri": "https://localhost:8080/"
        },
        "id": "rqZ-J3pr3wrC",
        "outputId": "c267e67a-8227-458c-9e55-4ea6d35f6c36"
      },
      "outputs": [
        {
          "output_type": "stream",
          "name": "stdout",
          "text": [
            "Depósito de R$1000 realizado com sucesso. Saldo atual: R$1000\n",
            "Depósito de R$500 realizado com sucesso. Saldo atual: R$500\n"
          ]
        }
      ],
      "source": [
        "class ContaBancaria:\n",
        "  def __init__(self, nome, cpf, senha):\n",
        "    self.nome = nome\n",
        "    self.cpf = cpf\n",
        "    self.saldo = 0\n",
        "    self.senha = senha\n",
        "\n",
        "  def depositar(self, valor):\n",
        "    if valor > 0:\n",
        "      self.saldo += valor\n",
        "      print(f'Depósito de R${valor} realizado com sucesso. Saldo atual: R${self.saldo}')\n",
        "    else:\n",
        "      print('Valor inválido para depósito. ')\n",
        "\n",
        "  def sacar(self, valor, senha):\n",
        "    if senha == self.senha:\n",
        "      if valor > 0 and valor <= self.saldo:\n",
        "        self.sado -= valor\n",
        "        print(f'Saque de R${valor} realizado com sucesso. Saldo atual: R${self.saldo}')\n",
        "      else:\n",
        "        print('Saldo insuficiente ou valor de saque inválido.')\n",
        "    else:\n",
        "      print('Senha incorreta. Saque não autorizado.')\n",
        "\n",
        "  def fazer_pix(self, valor, destino, senha):\n",
        "    if senha == self.senha:\n",
        "      if valor > 0 and valor <= self.saldo:\n",
        "        self.saldo -= valor\n",
        "        destino.depositar(valor)\n",
        "        print(f'Pix de R${valor} para {destino.nome} realizado com sucesso.')\n",
        "        print(f'Saldo atual: R${self.saldo}')\n",
        "      else:\n",
        "        print('Saldo insuficiente ou valor de pix inválido.')\n",
        "    else:\n",
        "      print('Senha incorreta. Pix não autorizado.')\n",
        "\n",
        "\n",
        "class Usuario:\n",
        "  def __init__(self, nome, cpf, senha):\n",
        "    self.nome = nome\n",
        "    self.cpf = cpf\n",
        "    self.conta = ContaBancaria(nome, cpf, senha)\n",
        "\n",
        "usuario1 = Usuario(\"João\", \"123.456.789-00\", \"senha123\")\n",
        "usuario2 = Usuario(\"Maria\", \"987.654.321-00\", \"senha456\")\n",
        "\n",
        "\n",
        "usuario1.conta.depositar(1000)\n",
        "usuario2.conta.depositar(500)\n",
        "\n"
      ]
    },
    {
      "cell_type": "code",
      "source": [
        "usuario1.conta.sacar(300, \"senha123\")\n",
        "usuario1.conta.fazer_pix(200, usuario2.conta, \"senha123\")"
      ],
      "metadata": {
        "colab": {
          "base_uri": "https://localhost:8080/"
        },
        "id": "_7wicBsVAH_i",
        "outputId": "5ff5e8d8-3b1a-4deb-bb19-2b659f84dc66"
      },
      "execution_count": null,
      "outputs": [
        {
          "output_type": "stream",
          "name": "stdout",
          "text": [
            "Saldo insuficiente ou valor de saque inválido.\n",
            "Saldo insuficiente ou valor de pix inválido.\n"
          ]
        }
      ]
    }
  ]
}