{
  "nbformat": 4,
  "nbformat_minor": 0,
  "metadata": {
    "colab": {
      "provenance": [],
      "authorship_tag": "ABX9TyPioRMYzNv2QmJhHzj5pHA2",
      "include_colab_link": true
    },
    "kernelspec": {
      "name": "python3",
      "display_name": "Python 3"
    },
    "language_info": {
      "name": "python"
    }
  },
  "cells": [
    {
      "cell_type": "markdown",
      "metadata": {
        "id": "view-in-github",
        "colab_type": "text"
      },
      "source": [
        "<a href=\"https://colab.research.google.com/github/JoaoOliveiraskt/OOP/blob/main/bank_account.ipynb\" target=\"_parent\"><img src=\"https://colab.research.google.com/assets/colab-badge.svg\" alt=\"Open In Colab\"/></a>"
      ]
    },
    {
      "cell_type": "code",
      "execution_count": null,
      "metadata": {
        "id": "kZdCXE8bsaOr"
      },
      "outputs": [],
      "source": [
        "class ContaBancaria:\n",
        "  def __init__(self, nome, cpf, senha):\n",
        "    self.nome = nome\n",
        "    self.conta = conta\n",
        "    self.senha = senha\n",
        "    self.saldo = 0\n",
        "\n",
        "\n",
        "    def depositar(self, valor):\n",
        "      if valor > 0:\n",
        "        saldo.conta += valor\n",
        "        print(f'O depósito de {valor} foi realizado com sucesso. Saldo atual {self.saldo}')\n",
        "      else\n",
        "      print('Algo deu errado.')\n",
        "\n",
        "\n",
        "    def sacar(self, valor, senha):\n",
        "      if senha == self.senha\n",
        "        if valor > 0 and valor < self.saldo:\n",
        "          self.saldo -= valor\n",
        "          print(f'O saque de {valor} foi realizado com sucesso. Saldo atual {self.saldo}')\n",
        "        else\n",
        "          print('Saldo insuficiente ou valor de saque inválido.')\n",
        "      else\n",
        "        print('Senha incorreta. Saque não autorizado.')\n"
      ]
    }
  ]
}